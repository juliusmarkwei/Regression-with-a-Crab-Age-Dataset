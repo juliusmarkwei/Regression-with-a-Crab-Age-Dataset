{
 "cells": [
  {
   "cell_type": "code",
   "execution_count": 1,
   "id": "e8c5c128",
   "metadata": {},
   "outputs": [],
   "source": [
    "import pandas as pd\n",
    "import numpy as np\n",
    "import matplotlib.pyplot as plt\n",
    "import seaborn as sns\n",
    "import plotly.express as px\n",
    "\n",
    "from warnings import filterwarnings\n",
    "filterwarnings('ignore')\n",
    "\n",
    "plt.style.use('seaborn-whitegrid')\n",
    "plt.rc('figure', autolayout=True)\n",
    "plt.rc(\n",
    "    'axes',\n",
    "    labelweight='bold',\n",
    "    labelsize='large',\n",
    "    titleweight='bold',\n",
    "    titlesize=14,\n",
    "    titlepad=10\n",
    ")\n",
    "\n",
    "from sklearn.preprocessing import LabelEncoder\n",
    "from sklearn.model_selection import train_test_split\n",
    "from sklearn.preprocessing import StandardScaler\n",
    "from sklearn.model_selection import GridSearchCV\n",
    "\n",
    "from sklearn.ensemble import GradientBoostingRegressor\n",
    "from sklearn.ensemble import RandomForestRegressor\n",
    "from sklearn.tree import DecisionTreeRegressor\n",
    "from xgboost import XGBRegressor\n",
    "\n",
    "from sklearn.metrics import mean_absolute_error\n",
    "from sklearn.metrics import mean_squared_error\n",
    "from sklearn.metrics import r2_score\n"
   ]
  },
  {
   "cell_type": "code",
   "execution_count": 2,
   "id": "09679510",
   "metadata": {},
   "outputs": [],
   "source": [
    "train = pd.read_csv('train.csv', verbose=True, index_col='id')"
   ]
  },
  {
   "cell_type": "code",
   "execution_count": 3,
   "id": "163f6d23",
   "metadata": {},
   "outputs": [],
   "source": [
    "train.head()"
   ]
  },
  {
   "cell_type": "code",
   "execution_count": 4,
   "id": "34ffd1cd",
   "metadata": {},
   "outputs": [],
   "source": [
    "train.tail()"
   ]
  },
  {
   "cell_type": "code",
   "execution_count": 5,
   "id": "8ab620a5",
   "metadata": {},
   "outputs": [],
   "source": [
    "train.info()"
   ]
  },
  {
   "cell_type": "code",
   "execution_count": 6,
   "id": "339d45ab",
   "metadata": {},
   "outputs": [],
   "source": [
    "train.shape"
   ]
  },
  {
   "cell_type": "code",
   "execution_count": 7,
   "id": "5d338d48",
   "metadata": {},
   "outputs": [],
   "source": [
    "train.describe(include='all').T"
   ]
  },
  {
   "cell_type": "code",
   "execution_count": 8,
   "id": "ffc3b2d8",
   "metadata": {},
   "outputs": [],
   "source": [
    "sns.countplot(x='Sex', data=train)\n",
    "plt.show()"
   ]
  },
  {
   "cell_type": "code",
   "execution_count": 9,
   "id": "49d7f6bd",
   "metadata": {},
   "outputs": [],
   "source": [
    "px.box(data_frame=train, x='Age', y='Sex')"
   ]
  },
  {
   "cell_type": "code",
   "execution_count": 10,
   "id": "5b49d0e3",
   "metadata": {},
   "outputs": [],
   "source": [
    "plt.scatter(x='Diameter', y='Weight', data=train, c='g', marker='+')\n",
    "plt.show()"
   ]
  },
  {
   "cell_type": "code",
   "execution_count": 11,
   "id": "f444fea2",
   "metadata": {},
   "outputs": [],
   "source": [
    "corr = train.corr()\n",
    "sns.heatmap(corr, annot=True,)\n",
    "plt.show()"
   ]
  },
  {
   "cell_type": "markdown",
   "id": "a2347af8",
   "metadata": {},
   "source": [
    "Most of the features are linearly correlated"
   ]
  },
  {
   "cell_type": "markdown",
   "id": "a305d960",
   "metadata": {},
   "source": [
    "### Feature engineering"
   ]
  },
  {
   "cell_type": "code",
   "execution_count": 12,
   "id": "b4949b73",
   "metadata": {},
   "outputs": [],
   "source": [
    "train['Lenght/Weight'] = train['Length'] / train['Weight']\n",
    "train['Weight__sqrt'] = train['Weight'] ** 2\n",
    "train['Height/Weight'] = train['Height'] / train['Weight']\n",
    "train['Diameter_red'] = (train['Diameter'] * 0.5) * 5\n",
    "train['Weight_sum'] = np.sum(train[['Shucked Weight', 'Viscera Weight', 'Shell Weight']], axis=1)\n",
    "train['Length_sqrt'] = train['Length'] ** 2"
   ]
  },
  {
   "cell_type": "code",
   "execution_count": 13,
   "id": "d7696624",
   "metadata": {},
   "outputs": [],
   "source": [
    "train.head()"
   ]
  },
  {
   "cell_type": "code",
   "execution_count": 14,
   "id": "efd92c30",
   "metadata": {},
   "outputs": [],
   "source": [
    "encoder = LabelEncoder()\n",
    "train['Sex'] = encoder.fit_transform(train['Sex'])"
   ]
  },
  {
   "cell_type": "code",
   "execution_count": 15,
   "id": "bced23f4",
   "metadata": {},
   "outputs": [],
   "source": [
    "train.columns"
   ]
  },
  {
   "cell_type": "code",
   "execution_count": 16,
   "id": "9de4eeb6",
   "metadata": {},
   "outputs": [],
   "source": [
    "train.describe(include='all').T"
   ]
  },
  {
   "cell_type": "code",
   "execution_count": 17,
   "id": "b0977b89",
   "metadata": {},
   "outputs": [],
   "source": [
    "train.var()"
   ]
  },
  {
   "cell_type": "code",
   "execution_count": 18,
   "id": "ebbf715b",
   "metadata": {},
   "outputs": [],
   "source": [
    "X = train.drop('Age', axis=1)\n",
    "y = train['Age']"
   ]
  },
  {
   "cell_type": "code",
   "execution_count": 19,
   "id": "98f5c051",
   "metadata": {},
   "outputs": [],
   "source": [
    "scaler = StandardScaler()\n",
    "scale_X = scaler.fit_transform(X)"
   ]
  },
  {
   "cell_type": "code",
   "execution_count": 20,
   "id": "5b7756a7",
   "metadata": {},
   "outputs": [],
   "source": [
    "scale_X = pd.DataFrame(scale_X, columns=X.columns)\n",
    "scale_X"
   ]
  },
  {
   "cell_type": "code",
   "execution_count": 21,
   "id": "4370faf8",
   "metadata": {},
   "outputs": [],
   "source": [
    "scale_X.corr()"
   ]
  },
  {
   "cell_type": "code",
   "execution_count": 22,
   "id": "9afb993e",
   "metadata": {},
   "outputs": [],
   "source": [
    "X_train, X_test, y_train, y_test = train_test_split(X, y, test_size=0.2)"
   ]
  },
  {
   "cell_type": "code",
   "execution_count": 23,
   "id": "0a5abd02",
   "metadata": {},
   "outputs": [],
   "source": [
    "def get_mae(X_train, y_train, X_test, y_test, models):\n",
    "    results = []\n",
    "    for i, (model_name, model) in enumerate(models.items()):\n",
    "        model.fit(X_train, y_train)\n",
    "        y_pred = model.predict(X_test)\n",
    "        \n",
    "        mae = mean_absolute_error(y_test, y_pred)\n",
    "        mse = mean_squared_error(y_test, y_pred)\n",
    "        \n",
    "        results.append([model_name, mae, mse])\n",
    "    return  pd.DataFrame(results, columns=['model_name', 'mae', 'mse'])"
   ]
  },
  {
   "cell_type": "code",
   "execution_count": 24,
   "id": "8aa62945",
   "metadata": {},
   "outputs": [],
   "source": [
    "models = {\n",
    "    'gradBoost': GradientBoostingRegressor(),\n",
    "    'randomForest': RandomForestRegressor(),\n",
    "    'XGBoost': XGBRegressor(),\n",
    "    'tree': DecisionTreeRegressor()\n",
    "}"
   ]
  },
  {
   "cell_type": "code",
   "execution_count": null,
   "id": "f48f5c89",
   "metadata": {},
   "outputs": [],
   "source": [
    "get_mae(X_train, y_train, X_test, y_test, models)"
   ]
  },
  {
   "cell_type": "code",
   "execution_count": null,
   "id": "46521bda",
   "metadata": {},
   "outputs": [],
   "source": [
    "param_grid = {\n",
    "    'learning_rate': [0.01, 0.05, 0.1, 0.2, 0.4],  # The learning rate controls the contribution of each tree in the ensemble.\n",
    "    'n_estimators': [100, 300, 500, 700, 100],  # The number of boosting stages to perform.\n",
    "    'min_samples_split': [2, 3, 4, 5, 6, 7, 8],  # The minimum number of samples required to split an internal node.\n",
    "    'min_samples_leaf': [1, 2, 3, 4, 5, 6, 7, 8],  # The minimum number of samples required to be at a leaf node.\n",
    "    'max_depth': [2, 3, 4, 5, 6, 7, 8],  # The maximum depth of the individual regression estimators.\n",
    "    'max_features': [2, 3, 4, 5, 6, 7, 8, 9, 10],  # The number of features to consider when looking for the best split.\n",
    "    'alpha': [0.1, 0.2, 0.3, 0.4, 0.5, 0.6, 0.7, 0.8, 0.90]  # The shrinkage parameter for the learning rate.\n",
    "}"
   ]
  },
  {
   "cell_type": "code",
   "execution_count": null,
   "id": "263e8ab7",
   "metadata": {},
   "outputs": [],
   "source": [
    "model = GradientBoostingRegressor()\n",
    "grid_search = GridSearchCV(estimator=model, param_grid=param_grid, cv=5, scoring='neg_mean_squared_error')\n",
    "\n",
    "# Fit the GridSearchCV object to the data\n",
    "grid_search.fit(X_train, y_train)"
   ]
  },
  {
   "cell_type": "code",
   "execution_count": null,
   "id": "a5427f09",
   "metadata": {},
   "outputs": [],
   "source": [
    "# Get the best parameters and best score\n",
    "best_params = grid_search.best_params_\n",
    "best_score = grid_search.best_score_"
   ]
  },
  {
   "cell_type": "code",
   "execution_count": null,
   "id": "2dde8869",
   "metadata": {},
   "outputs": [],
   "source": [
    "best_model, best_score"
   ]
  },
  {
   "cell_type": "code",
   "execution_count": null,
   "id": "71046c9c",
   "metadata": {},
   "outputs": [],
   "source": [
    "best_model = grid_search.best_estimator_\n",
    "y_pred = best_model.predict(X_test)"
   ]
  },
  {
   "cell_type": "code",
   "execution_count": null,
   "id": "251d336f",
   "metadata": {},
   "outputs": [],
   "source": [
    "test = pd.read_csv('test.csv', )\n",
    "test['Sex'] = encoder.fit_transform(test['Sex'])"
   ]
  },
  {
   "cell_type": "code",
   "execution_count": null,
   "id": "2193f366",
   "metadata": {},
   "outputs": [],
   "source": [
    "test['Lenght/Weight'] = test['Length'] / test['Weight']\n",
    "test['Weight__sqrt'] = test['Weight'] ** 2\n",
    "test['Height/Weight'] = test['Height'] / test['Weight']\n",
    "test['Diameter_red'] = (test['Diameter'] * 0.5) * 5\n",
    "test['Weight_sum'] = np.sum(test[['Shucked Weight', 'Viscera Weight', 'Shell Weight']], axis=1)\n",
    "test['Length_sqrt'] = test['Length'] ** 2"
   ]
  },
  {
   "cell_type": "code",
   "execution_count": null,
   "id": "c7fc4126",
   "metadata": {},
   "outputs": [],
   "source": [
    "test.head()"
   ]
  },
  {
   "cell_type": "code",
   "execution_count": null,
   "id": "e43c7cb1",
   "metadata": {},
   "outputs": [],
   "source": [
    "predictions = best_model.predict(test.drop('id', axis=1))\n",
    "predictions = [round(age, ndigits=0) for age in predictions]"
   ]
  },
  {
   "cell_type": "code",
   "execution_count": null,
   "id": "42141cda",
   "metadata": {},
   "outputs": [],
   "source": [
    "submission = pd.DataFrame()\n",
    "submission['id'] = test[['id']]\n",
    "submission['Age'] = predictions\n",
    "submission = submission.set_index('id')"
   ]
  },
  {
   "cell_type": "code",
   "execution_count": null,
   "id": "397ff552",
   "metadata": {},
   "outputs": [],
   "source": [
    "submission.to_csv('submission.csv')"
   ]
  }
 ],
 "metadata": {
  "kernelspec": {
   "display_name": "Python 3 (ipykernel)",
   "language": "python",
   "name": "python3"
  },
  "language_info": {
   "codemirror_mode": {
    "name": "ipython",
    "version": 3
   },
   "file_extension": ".py",
   "mimetype": "text/x-python",
   "name": "python",
   "nbconvert_exporter": "python",
   "pygments_lexer": "ipython3",
   "version": "3.10.9"
  }
 },
 "nbformat": 4,
 "nbformat_minor": 5
}
